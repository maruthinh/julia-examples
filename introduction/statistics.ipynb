{
 "cells": [
  {
   "cell_type": "code",
   "execution_count": null,
   "metadata": {},
   "outputs": [],
   "source": [
    "# From Coursera Julia course by university of Cape Town\n",
    "using Pkg;\n",
    "# ENV[\"PYTHON\"]=\"/home/maruthinh/softwares/julia-1.10.0-alpha1/bin/julia\"\n",
    "# Pkg.build(\"PyCall\")\n",
    "Pkg.add(\"PyPlot\")\n",
    "Pkg.add(\"Distributions\") #create random variables\n",
    "Pkg.add(\"StatsBase\") #Basic statistical support\n",
    "Pkg.add(\"CSV\") #Reading and writing CSV files\n",
    "Pkg.add(\"DataFrames\") #create a data structure \n",
    "Pkg.add(\"HypothesisTests\") #create a statistical tests\n",
    "Pkg.add(\"StatsPlots\") #plot statistical data\n",
    "Pkg.add(\"GLM\") #General linear models"
   ]
  },
  {
   "cell_type": "code",
   "execution_count": null,
   "metadata": {},
   "outputs": [],
   "source": [
    "using CSV\n",
    "using DataFrames\n",
    "using Distributions\n",
    "using GLM\n",
    "using HypothesisTests\n",
    "using PyPlot\n",
    "using StatsBase\n",
    "using StatsPlots\n",
    "# pyplot()"
   ]
  },
  {
   "cell_type": "markdown",
   "metadata": {},
   "source": [
    "#### Creating random variables"
   ]
  },
  {
   "cell_type": "code",
   "execution_count": null,
   "metadata": {},
   "outputs": [],
   "source": [
    "age = rand(18:80, 100); #uniform distribution\n",
    "wcc = round.(rand(Distributions.Normal(12,2), 100), digits=1); #white cell count. Normal distribution & round to one decimal place \n",
    "crp = round.(Int, rand(Distributions.Chisq(4), 100)) .* 10; #Chi-squared distribution with broadcasting & alternative round() : C-reactive protein\n",
    "treatment = rand([\"A\", \"B\"], 100); #uniformly weighted\n",
    "result = rand([\"Improved\" \"Static\" \"Worse\"], 100); #uniformly weighted"
   ]
  },
  {
   "cell_type": "markdown",
   "metadata": {},
   "source": [
    "#### Desriptive statistics"
   ]
  },
  {
   "cell_type": "code",
   "execution_count": null,
   "metadata": {},
   "outputs": [],
   "source": [
    "#mean of age \n",
    "mean(age)"
   ]
  },
  {
   "cell_type": "code",
   "execution_count": null,
   "metadata": {},
   "outputs": [],
   "source": [
    "#median of age \n",
    "median(age)"
   ]
  },
  {
   "cell_type": "code",
   "execution_count": null,
   "metadata": {},
   "outputs": [],
   "source": [
    "#standard deviation\n",
    "std(age)"
   ]
  },
  {
   "cell_type": "code",
   "execution_count": null,
   "metadata": {},
   "outputs": [],
   "source": [
    "#variance of age \n",
    "var(age)"
   ]
  },
  {
   "cell_type": "code",
   "execution_count": null,
   "metadata": {},
   "outputs": [],
   "source": [
    "#Descriptive statistics of the age variable \n",
    "StatsBase.describe(age)"
   ]
  },
  {
   "cell_type": "code",
   "execution_count": null,
   "metadata": {},
   "outputs": [],
   "source": [
    "#Summary stats of the wcc variable (similar to describe)\n",
    "StatsBase.summarystats(wcc)"
   ]
  },
  {
   "cell_type": "markdown",
   "metadata": {},
   "source": [
    "#### Creating a dataframe\n",
    "create a dataframe data for easier manipulation"
   ]
  },
  {
   "cell_type": "code",
   "execution_count": null,
   "metadata": {},
   "outputs": [],
   "source": [
    "data = DataFrame(Age=age, WCC=wcc, CRP=crp, Treatment=treatment, Result=result)"
   ]
  },
  {
   "cell_type": "code",
   "execution_count": null,
   "metadata": {},
   "outputs": [],
   "source": [
    "#number of rows and cols \n",
    "size(data)"
   ]
  },
  {
   "cell_type": "code",
   "execution_count": null,
   "metadata": {},
   "outputs": [],
   "source": [
    "#first row \n",
    "first(data)"
   ]
  },
  {
   "cell_type": "code",
   "execution_count": null,
   "metadata": {},
   "outputs": [],
   "source": [
    "#extract data frame based on condition\n",
    "dataA = data[data.Treatment .== \"A\", :]\n",
    "dataB = data[data.Treatment .== \"B\", :]"
   ]
  },
  {
   "cell_type": "markdown",
   "metadata": {},
   "source": [
    "##### Descriptive stat using the dataframe "
   ]
  },
  {
   "cell_type": "code",
   "execution_count": null,
   "metadata": {},
   "outputs": [],
   "source": [
    "describe(data)"
   ]
  },
  {
   "cell_type": "code",
   "execution_count": null,
   "metadata": {},
   "outputs": [],
   "source": [
    "# groupby() function in the DataFrames package is used to group rows in a DataFrame based on the unique values in one or more columns\n",
    "# Now, grouped_df is a GroupedDataFrame object, which contains groups of rows grouped by unique values in the \"ID\" column.\n",
    "grouped_df = groupby(data, :Age)\n",
    "# You can iterate over the groups \n",
    "for group in grouped_df\n",
    "    println(group)\n",
    "end"
   ]
  },
  {
   "cell_type": "code",
   "execution_count": null,
   "metadata": {},
   "outputs": [],
   "source": [
    "# You can perform various operations on groups, such as calculating summary statistics (e.g., mean, sum) or applying custom functions using combine() or map() functions.\n",
    "mean_scores = combine(grouped_df, :WCC => mean => :WCC)"
   ]
  },
  {
   "cell_type": "markdown",
   "metadata": {},
   "source": [
    "### Visualizing the data\n",
    "Plots package with DataFrame macro "
   ]
  },
  {
   "cell_type": "code",
   "execution_count": null,
   "metadata": {},
   "outputs": [],
   "source": [
    "@df data density(:Age, group=:Treatment, title=\"Distribution of ages by treatment group\", xlab=\"Age\", ylab=\"Distribution\", legent=:topright)"
   ]
  },
  {
   "cell_type": "code",
   "execution_count": null,
   "metadata": {},
   "outputs": [],
   "source": [
    "#we can do the same for thre resulting groups \n",
    "@df data density(:Age, group = :Result, title=\"Distribution of ages by result group\", xlab=\"Age\", ylab=\"Distribution\", legent=:topright)"
   ]
  },
  {
   "cell_type": "markdown",
   "metadata": {},
   "source": []
  },
  {
   "cell_type": "code",
   "execution_count": null,
   "metadata": {},
   "outputs": [],
   "source": [
    "#discriminate between all groups \n",
    "@df data density(:Age, group=(:Treatment, :Result), title=\"Distribution of ages by treatment and result group\", xlab=\"Age\", ylab=\"Distribution\", legent=:topright)\n"
   ]
  },
  {
   "cell_type": "code",
   "execution_count": null,
   "metadata": {},
   "outputs": [],
   "source": [
    "#create a box-and-whisker plot of the white cell per treatment group and then per result group\n",
    "@df data StatsPlots.boxplot(:Treatment, :WCC, lab=\"WCC\", title=\"white cell count by treatment group\", xlab=\"Groups\", ylab=\"WCC\")"
   ]
  },
  {
   "cell_type": "code",
   "execution_count": null,
   "metadata": {},
   "outputs": [],
   "source": [
    "@df data StatsPlots.boxplot(:Result, :WCC, lab=\"Result\", title=\"white cell count by result group\", xlab=\"Groups\", ylab=\"WCC\")"
   ]
  },
  {
   "cell_type": "code",
   "execution_count": null,
   "metadata": {},
   "outputs": [],
   "source": [
    "#correlation between numerical variables using a correlation plot and corner plot. \n",
    "@df data corrplot([:Age :WCC :CRP], grid=false) #no comma between arguments "
   ]
  },
  {
   "cell_type": "code",
   "execution_count": null,
   "metadata": {},
   "outputs": [],
   "source": [
    "@df data cornerplot([:Age :WCC :CRP], grid=false, compact=true) #no comma between arguments "
   ]
  },
  {
   "cell_type": "markdown",
   "metadata": {},
   "source": [
    "### Inferential statistics"
   ]
  },
  {
   "cell_type": "code",
   "execution_count": null,
   "metadata": {},
   "outputs": [],
   "source": [
    "# We will begin by Student's t test \n",
    "#difference in age between patients in groups A and B\n",
    "HypothesisTests.EqualVarianceTTest(dataA.Age, dataB.Age)"
   ]
  },
  {
   "cell_type": "code",
   "execution_count": null,
   "metadata": {},
   "outputs": [],
   "source": [
    "#p value for the difference in white cell count between patients in groups A and B \n",
    "pvalue(EqualVarianceTTest(dataA.WCC,dataA.WCC))"
   ]
  },
  {
   "cell_type": "code",
   "execution_count": null,
   "metadata": {},
   "outputs": [],
   "source": [
    "#difference in c-reactive protein level between patients in groups A and B for unequal variances \n",
    "UnequalVarianceTTest(dataA.CRP, dataB.CRP)"
   ]
  },
  {
   "cell_type": "markdown",
   "metadata": {},
   "source": [
    "### Creating a liner models using GLM "
   ]
  },
  {
   "cell_type": "code",
   "execution_count": null,
   "metadata": {},
   "outputs": [],
   "source": [
    "#Simple model to predict CRP \n",
    "GLM.fit(LinearModel, @formula(CRP~1), data)"
   ]
  },
  {
   "cell_type": "code",
   "execution_count": null,
   "metadata": {},
   "outputs": [],
   "source": [
    "#Adding age as a predictor variable \n",
    "fit(LinearModel, @formula(CRP~Age), data)"
   ]
  },
  {
   "cell_type": "code",
   "execution_count": null,
   "metadata": {},
   "outputs": [],
   "source": [
    "#Adding age and WCC as a predictor variable \n",
    "fit(LinearModel, @formula(CRP~Age+WCC), data)"
   ]
  },
  {
   "cell_type": "markdown",
   "metadata": {},
   "source": [
    "We can conduct $\\chi^2$ test for independence using the HypothesisTests.ChisqTest() function. First we need to look at the counts. Below we calculate the number of unique values for the result variable sample spaces for patients in groups A and B"
   ]
  },
  {
   "cell_type": "code",
   "execution_count": null,
   "metadata": {},
   "outputs": [],
   "source": [
    "groupby(dataA, :Result)\n",
    "groupby(dataB, :Result)\n",
    "\n",
    "observed=reshape([22,17,18,18,11,14],(2,3))\n",
    "ChisqTest(observed)"
   ]
  },
  {
   "cell_type": "markdown",
   "metadata": {},
   "source": [
    "### Export to CSV"
   ]
  },
  {
   "cell_type": "code",
   "execution_count": null,
   "metadata": {},
   "outputs": [],
   "source": [
    "CSV.write(\"data.csv\", data)"
   ]
  }
 ],
 "metadata": {
  "kernelspec": {
   "display_name": "Julia 1.9.4",
   "language": "julia",
   "name": "julia-1.9"
  },
  "language_info": {
   "file_extension": ".jl",
   "mimetype": "application/julia",
   "name": "julia",
   "version": "1.9.4"
  }
 },
 "nbformat": 4,
 "nbformat_minor": 2
}
