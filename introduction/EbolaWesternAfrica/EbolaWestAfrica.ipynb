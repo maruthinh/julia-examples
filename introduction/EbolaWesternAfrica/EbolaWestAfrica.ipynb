{
 "cells": [
  {
   "cell_type": "code",
   "execution_count": null,
   "metadata": {},
   "outputs": [],
   "source": [
    "#package to read delimited (csv) files\n",
    "using DelimitedFiles"
   ]
  },
  {
   "cell_type": "code",
   "execution_count": null,
   "metadata": {},
   "outputs": [],
   "source": [
    "#read Ebola virus data\n",
    "ev_data = DelimitedFiles.readdlm(\"wikipediaEVDraw.csv\", ',')\n"
   ]
  },
  {
   "cell_type": "code",
   "execution_count": null,
   "metadata": {},
   "outputs": [],
   "source": [
    "#convert date string to DateTime format\n",
    "using Dates\n",
    "Dates.DateTime(ev_data[1,1], \"d u y\")"
   ]
  },
  {
   "cell_type": "code",
   "execution_count": null,
   "metadata": {},
   "outputs": [],
   "source": [
    "#converting col 1 to DateTime type as shown above \n",
    "col1 = ev_data[:,1]\n",
    "for i=1:length(col1)\n",
    "    col1[i] = Dates.DateTime(col1[i], \"d u y\")\n",
    "end "
   ]
  },
  {
   "cell_type": "code",
   "execution_count": null,
   "metadata": {},
   "outputs": [],
   "source": [
    "#create a data giving time in days since 22 Mar 2014 (Rata Die days format)\n",
    "#it gives number of days since 1 Jan 0001\n",
    "Dates.datetime2rata(col1[1])\n"
   ]
  },
  {
   "cell_type": "code",
   "execution_count": null,
   "metadata": {},
   "outputs": [],
   "source": [
    "#create a function to express number of days since epidemic day zero, which is col1[54], which is 22 March 2014\n",
    "days_since_mar22(x) = Dates.datetime2rata(x)-Dates.datetime2rata(col1[54])\n",
    "epidays = Array{Int64}(undef, 54)\n",
    "for i = 1:length(col1)\n",
    "    epidays[i] = days_since_mar22(col1[i])\n",
    "end "
   ]
  },
  {
   "cell_type": "code",
   "execution_count": null,
   "metadata": {},
   "outputs": [],
   "source": [
    "#export converted data \n",
    "ev_data[:,1]=epidays\n",
    "DelimitedFiles.writedlm(\"wikipediaEVDdatesconverted.csv\", ev_data, \",\")"
   ]
  },
  {
   "cell_type": "code",
   "execution_count": null,
   "metadata": {},
   "outputs": [],
   "source": [
    "using Pkg\n",
    "Pkg.add(\"Plots\")\n",
    "using Plots "
   ]
  },
  {
   "cell_type": "code",
   "execution_count": null,
   "metadata": {},
   "outputs": [],
   "source": [
    "#use GR backend for plots \n",
    "gr()"
   ]
  },
  {
   "cell_type": "code",
   "execution_count": null,
   "metadata": {},
   "outputs": [],
   "source": [
    "plot(ev_data[:,1], ev_data[:,2])"
   ]
  },
  {
   "cell_type": "code",
   "execution_count": null,
   "metadata": {},
   "outputs": [],
   "source": [
    "plot(ev_data[:,1], ev_data[:,2], linetype = :scatter, marker = :diamond)"
   ]
  },
  {
   "cell_type": "code",
   "execution_count": null,
   "metadata": {},
   "outputs": [],
   "source": [
    "plot(ev_data[:, 1], ev_data[:, 2],\n",
    "    title=\"West Africa Ebola epidemic, total cases\",\n",
    "    xlabel=\"Days since 22 March 2024\",\n",
    "    ylabel=\"Total cases to data (three countries)\",\n",
    "    marker=(:diamond, 8, \"orange\"), #paranthesis to group the marker attributes into a composite of attributes\n",
    "    line=(:path, \"gray\"),\n",
    "    legend=false,\n",
    "    grid=false)"
   ]
  },
  {
   "cell_type": "code",
   "execution_count": null,
   "metadata": {},
   "outputs": [],
   "source": [
    "#save plot \n",
    "savefig(\"WAfricaEVD\")#by default png \n",
    "savefig(\"WAfricaEVD.pdf\")#by default png "
   ]
  },
  {
   "cell_type": "code",
   "execution_count": null,
   "metadata": {},
   "outputs": [],
   "source": [
    "#fill in missing values \n",
    "rows, cols = size(ev_data)\n",
    "for j = 1:cols\n",
    "    for i = 1:rows\n",
    "        if !isnumeric(string(ev_data[i, j])[1])\n",
    "            ev_data[i, j] = 0\n",
    "        end\n",
    "    end\n",
    "end"
   ]
  },
  {
   "cell_type": "code",
   "execution_count": null,
   "metadata": {},
   "outputs": [],
   "source": [
    "#Array slicing \n",
    "ev_data[end-9:end, :] #gives last 10 rows\n",
    "epidays = ev_data[:,1]\n",
    "evCasesByCountry = ev_data[:,[4,6,8]]"
   ]
  },
  {
   "cell_type": "code",
   "execution_count": null,
   "metadata": {},
   "outputs": [],
   "source": [
    "#plot \n",
    "plot(epidays, evCasesByCountry[:, 1])\n",
    "plot!(epidays, evCasesByCountry[:, 2])\n",
    "plot!(epidays, evCasesByCountry[:, 3])\n",
    "plot!(title=\"West Africa Ebola epidemic, total cases\",\n",
    "    xlabel=\"Days since 22 March 2024\",\n",
    "    ylabel=\"Total cases to data (three countries)\",\n",
    "    marker=([:octagon :star :square], 8), #paranthesis to group the marker attributes into a composite of attributes\n",
    "    line=(:scatter),\n",
    "    label=[\"Guinea\" \"Liberia\" \"Sierra Leone\"],\n",
    "    legend=:topleft)\n"
   ]
  },
  {
   "cell_type": "code",
   "execution_count": null,
   "metadata": {},
   "outputs": [],
   "source": [
    "plot(epidays, [evCasesByCountry[:,1] evCasesByCountry[:,2] evCasesByCountry[:,3]])"
   ]
  },
  {
   "cell_type": "code",
   "execution_count": null,
   "metadata": {},
   "outputs": [],
   "source": [
    "size(ev_data[end-3:end, :])\n",
    "size(ev_data)"
   ]
  },
  {
   "cell_type": "markdown",
   "metadata": {},
   "source": [
    "***SIR (Susceptible, Infected and Removed) Models***\n",
    "\n",
    "We make the following assumptions.\n",
    "\n",
    "- Before the epidemic starts, there is a population at risk of catching disease \n",
    "- The disease spreads from infected to susceptible people\n",
    "- After a while, people are no longer infected\n",
    "- Once infected, people are never infected again\n",
    "- We ignore allother differences between people \n",
    "\n",
    "$ S $ (Susceptible) for number of people still at risk of the disease. $S$ is a function of time, $S(t)$. The number $S(0)$ is the number of susceptibles at the start of the epidemic.\n",
    "The number of people infected at time $t$ is $I(t)$. We assume $I(0) > 0$, otherwise epidemic can't start. People who are previously infected, but no longer infectious are called Removed ($R$)\n",
    "\n",
    "***SIR Model equations***\n",
    "\n",
    "We will model $S$, $I$, and $R$ in discrete time steps. In fact we will use the same length of time step $dt$ for every step. We denote $t_i$, the time after $i$ steps. We assume $t_0=0$ adn $t_i = i dt$. The model steps from \n",
    "$t_i$ to $t_{i+1}$, the three equations all have the form \n",
    "\n",
    "new value = old value + gains - losses\n",
    "\n",
    "For susceptibles, there is only a loss term. The simple SIR models come from the so-called \"law of mass action\". This law holds that all susceptibles have an equal chance of meeting an infected person. And the same is assumed for infected people. Then the number of meetings of infected and susceptible is proportional to the product $SI$. We use the symbol $\\lambda$ for the constant of proportionality and we interpret $\\lambda S I$ as the rate at which suscpetible becomes infected. This is per day, so actual loss over the time step $dt$ is actually $\\lambda S I$ so the equation for $S$ is \n",
    "\n",
    "1... $S(t_{i+1}) = S(t_i) - \\lambda S(t_i) I(t_i)dt$\n",
    "\n",
    "The loss rate for infected people is just a constant propbability of recovery per unit time. So a constant fraction $\\gamma$ is removed from the infected per day. The gain of infecteds must be exactly the susceptible who becomes infected, so the equation for $I$ is \n",
    "\n",
    "2... $I(t_{i+1}) = I(t_i) + \\lambda S(t_i) I(t_i)dt - \\gamma I(t_i)dt$\n",
    "\n",
    "In an SIR model, the removed population equation has only a gain term, no loss term. What is lost from infected is gained by removeds, so the equation for $R$ is \n",
    "\n",
    "3... $R(t_{i+1}) = R(t_i) + \\gamma I(t_i)dt$\n",
    "\n",
    "\n",
    "\n",
    "\n",
    "\n",
    "\n",
    "\n",
    "\n"
   ]
  },
  {
   "cell_type": "markdown",
   "metadata": {},
   "source": []
  },
  {
   "cell_type": "code",
   "execution_count": null,
   "metadata": {},
   "outputs": [],
   "source": [
    "function updateSIR(popnvector, dt, lambda, gam)\n",
    "    susceptibles = popnvector[1]\n",
    "    infecteds = popnvector[2]\n",
    "    removeds = popnvector[3]\n",
    "\n",
    "    newS = susceptibles - lambda * susceptibles * infecteds * dt\n",
    "    newI = infecteds + lambda * susceptibles * infecteds * dt - gam * infecteds * dt\n",
    "    newR = removeds + gam * infecteds * dt\n",
    "\n",
    "    return [newS newI newR]\n",
    "end"
   ]
  },
  {
   "cell_type": "code",
   "execution_count": null,
   "metadata": {},
   "outputs": [],
   "source": [
    "dt = 0.5 #two steps per day \n",
    "lambda = 1/200; gam = 1/10 #since gamma is julia function we use gam instead \n",
    "\n",
    "s, i, r = 1000, 10, 20 \n",
    "vec = [s i r]\n",
    "updateSIR(vec, dt, lambda, gam)"
   ]
  },
  {
   "cell_type": "code",
   "execution_count": null,
   "metadata": {},
   "outputs": [],
   "source": [
    "# we will use number of days as 610 (slightly more than wikipedia data\n",
    "lambda = 1/20000 #infection rate (assumes rate per day)\n",
    "gam = 1/10 #recovery rate \n",
    "dt = 0.5 \n",
    "s0 = 10000.0\n",
    "i0 = 4.0 \n",
    "r0 = 0.0 \n",
    "tfinal = 610 \n",
    "nsteps = round(Int64, tfinal/dt)\n",
    "resultvals = Array{Float64}(undef, nsteps + 1, 3)\n",
    "timevec = Array{Float64}(undef, nsteps + 1)\n",
    "\n",
    "resultvals[1,:] = [s0, i0, r0]\n",
    "timevec[1] = 0.0\n",
    "\n",
    "for step = 1:nsteps\n",
    "    resultvals[step+1, :] = updateSIR(resultvals[step, :], dt, lambda, gam)\n",
    "    timevec[step+1] = timevec[step] + dt \n",
    "end "
   ]
  },
  {
   "cell_type": "code",
   "execution_count": null,
   "metadata": {},
   "outputs": [],
   "source": [
    "plot(timevec, resultvals, title=\"Example of SIR\", xlabel=\"Epidemic day\", ylabel=\"Polulation size\", label=[\"Susceptibles\" \"Infecteds\" \"Removeds\"], legend=:topright)"
   ]
  },
  {
   "cell_type": "markdown",
   "metadata": {},
   "source": [
    "The parameter $\\lambda$ models the likelihood that when an infected person meets a susceptible person, the susceptible person becomes infected. \n",
    "\n",
    "The parameter $\\gamma$ models the rate at which infected people become removed\n",
    "\n",
    "For a given value of $\\lambda$ and $\\gamma$, there is no epidemic if $S(0)$ is big enough. Thre reason is for an epidemic to happen, the infection must spread. This means, more people must be getting infected than are recovering. That is, gain minus the loss of infected must be positive\n",
    "\n",
    "$\\lambda S I - \\gamma I \\gt 0 $ \n",
    "\n",
    "or \n",
    "\n",
    "$\\lambda S - \\gamma \\gt 0 $\n",
    "\n",
    "So that number of infecteds can increase only when \n",
    "\n",
    "$ S \\gt \\dfrac{\\gamma}{\\lambda}$\n",
    "\n",
    "This implies that if initial population is below threshold $\\left( S(0) \\lt \\dfrac{\\gamma}{\\lambda} \\right)$, then the number of infecteds, even if initially large, will decrease. That is, in a small enough population, any initial infection simply dies out. On the other hand, if $ S(0) \\gt \\dfrac{\\gamma}{\\lambda}$, the number of infecteds will increase, at least for a while. \n",
    "\n",
    "The loss rate of infected is given by $\\gamma I$, which means that every day, the fraction of infected people becoming removed is $\\gamma$\n",
    "\n",
    "if $\\gamma = 1/10$, every day a tenth of ill people will recover. If we assume that every person is ill for 10 days, and as many people are getting ill as recovering, then a tenth of all ill people recover every day. \n",
    "\n",
    "In other words, it makes sense to think of the duration of one person's illness as $1 / \\gamma$. The duration of EVD is approximately three weeks. This means we may estimate that $1/\\gamma \\approx 21$. And set $\\gamma = 0.05$. Although it is crude to think that they are equally infectious every day of these three weeks"
   ]
  },
  {
   "cell_type": "code",
   "execution_count": null,
   "metadata": {},
   "outputs": [],
   "source": [
    "lambda = 0.0005 #infection rate (assumes rate per day)\n",
    "gam = 1/20 #recovery rate \n",
    "dt = 0.5 \n",
    "s0 = 2000.0\n",
    "i0 = 4.0 \n",
    "r0 = 0.0 \n",
    "tfinal = 610 \n",
    "nsteps = round(Int64, tfinal/dt)\n",
    "resultvals = Array{Float64}(undef, nsteps + 1, 3)\n",
    "timevec = Array{Float64}(undef, nsteps + 1)\n",
    "\n",
    "resultvals[1,:] = [s0, i0, r0]\n",
    "timevec[1] = 0.0\n",
    "\n",
    "for step = 1:nsteps\n",
    "    resultvals[step+1, :] = updateSIR(resultvals[step, :], dt, lambda, gam)\n",
    "    timevec[step+1] = timevec[step] + dt \n",
    "end "
   ]
  },
  {
   "cell_type": "code",
   "execution_count": null,
   "metadata": {},
   "outputs": [],
   "source": [
    "#Good way to illustrate threshold phenomena is plotting I vs S in phase plane \n",
    "plot(resultvals[:,1],resultvals[:,2], title=\"I vs S\", xlabel=\"Susceptibles\", ylabel=\"Infecteds\")\n",
    "\n",
    "#Susceptibles start at 2000 and rapidly increase and peak over 1500 and drops very fast "
   ]
  },
  {
   "cell_type": "markdown",
   "metadata": {},
   "source": [
    "Lets now estimate $\\lambda$. At the beginning of the epidemic, one could not safely say that any person in three countries concerned would never be exposed to the Ebola virus, we should assume that the susceptible population was the sum of the populations of Guinea, Liberia and Sierra Leone. The population is \n",
    "\n",
    "$S(0) = 22 \\times 10^6$\n",
    "\n",
    "Now we use the threshold, which we write as $S^* = \\dfrac{\\gamma}{\\lambda}$, so that $\\lambda = \\dfrac{\\gamma}{S^*}$. Assuming that our $S(0)$ is far larger that $S^*$, because epidemic was so severe, let us set \n",
    "\n",
    "$S^* = S(0)$ \n",
    "\n",
    "So $\\lambda = 0.05/(0.1 \\times 2.2 \\times 10^6) \\approx 2.3 \\times 10^{-7}$. Using these values "
   ]
  },
  {
   "cell_type": "markdown",
   "metadata": {},
   "source": []
  },
  {
   "cell_type": "code",
   "execution_count": null,
   "metadata": {},
   "outputs": [],
   "source": [
    "lambda = 2.3e-8 #infection rate (assumes rate per day)\n",
    "gam = 1/20 #recovery rate \n",
    "dt = 0.5 \n",
    "s0 = 22.0e6\n",
    "i0 = 4.0 \n",
    "r0 = 0.0 \n",
    "tfinal = 610 \n",
    "nsteps = round(Int64, tfinal/dt)\n",
    "resultvals = Array{Float64}(undef, nsteps + 1, 3)\n",
    "timevec = Array{Float64}(undef, nsteps + 1)\n",
    "\n",
    "resultvals[1,:] = [s0, i0, r0]\n",
    "timevec[1] = 0.0\n",
    "\n",
    "for step = 1:nsteps\n",
    "    resultvals[step+1, :] = updateSIR(resultvals[step, :], dt, lambda, gam)\n",
    "    timevec[step+1] = timevec[step] + dt \n",
    "end \n",
    "\n",
    "plot(resultvals[:,1],resultvals[:,2], title=\"I vs S\", xlabel=\"Susceptibles\", ylabel=\"Infecteds\")"
   ]
  },
  {
   "cell_type": "markdown",
   "metadata": {},
   "source": [
    "**Total cases data: observation vs model**\n",
    "The total cases to date is the number of people who have ever been infected. But every such person is either in the infected group currently or has moved to the removed group. So the total number of cases at the time $t$ is \n",
    "\n",
    "$C(t) = I(t) + R(t)$\n",
    "\n",
    "We will use $W(t)$ to represent the reported number of cases from Wikipedia "
   ]
  },
  {
   "cell_type": "code",
   "execution_count": null,
   "metadata": {},
   "outputs": [],
   "source": [
    "C = resultvals[:,2] + resultvals[:,3]\n",
    "plot(timevec, C, label = \"Model values\", xlabel=\"Epidemic day\", ylabel=\"Number of cases to date\", title=\"Model vs data\")\n",
    "plot!(ev_data[:,1], ev_data[:,2], legend=:right, line=:scatter, label=\"Reported number of cases\")"
   ]
  },
  {
   "cell_type": "markdown",
   "metadata": {},
   "source": [
    "Model results doesn't make sense. If we adjust $S(0)$, $\\lambda$ and $\\gamma$ based on observed values, we note that we can get model close to reported values by having the following values \n",
    "\n",
    "$S(0) = 10^5$, $I(0)=20$, $\\gamma=1/8$ and $\\lambda = 1.46 \\times 10^{-6}$"
   ]
  },
  {
   "cell_type": "code",
   "execution_count": null,
   "metadata": {},
   "outputs": [],
   "source": [
    "lambda = 1.47e-6 #infection rate (assumes rate per day)\n",
    "gam = 1/8 #recovery rate \n",
    "dt = 0.5 \n",
    "s0 = 1e5\n",
    "i0 = 20.0 \n",
    "r0 = 0.0 \n",
    "tfinal = 610 \n",
    "nsteps = round(Int64, tfinal/dt)\n",
    "resultvals = Array{Float64}(undef, nsteps + 1, 3)\n",
    "timevec = Array{Float64}(undef, nsteps + 1)\n",
    "\n",
    "resultvals[1,:] = [s0, i0, r0]\n",
    "timevec[1] = 0.0\n",
    "\n",
    "for step = 1:nsteps\n",
    "    resultvals[step+1, :] = updateSIR(resultvals[step, :], dt, lambda, gam)\n",
    "    timevec[step+1] = timevec[step] + dt \n",
    "end \n",
    "C = resultvals[:,2] + resultvals[:,3]\n",
    "plot(timevec, C, label = \"Model values\", xlabel=\"Epidemic day\", ylabel=\"Number of cases to date\", title=\"Model vs data\")\n",
    "plot!(ev_data[:,1], ev_data[:,2], legend=:right, line=:scatter, label=\"Reported number of cases\")"
   ]
  },
  {
   "cell_type": "markdown",
   "metadata": {},
   "source": []
  }
 ],
 "metadata": {
  "kernelspec": {
   "display_name": "Julia 1.9.2",
   "language": "julia",
   "name": "julia-1.9"
  },
  "language_info": {
   "file_extension": ".jl",
   "mimetype": "application/julia",
   "name": "julia",
   "version": "1.9.2"
  }
 },
 "nbformat": 4,
 "nbformat_minor": 2
}
